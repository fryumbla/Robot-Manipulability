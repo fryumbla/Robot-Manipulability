{
 "cells": [
  {
   "cell_type": "markdown",
   "metadata": {},
   "source": [
    "# Find a Reachability map\n",
    "\n",
    "## DATA \n",
    "\n",
    "### 1-3. **TCP(x,y,z)**\n",
    "### 4-6. **eef(x,y,z)** \n",
    "### 7. **angle** = Cr (idx: 6)\n",
    "### 8. **angle** = Pitch (idx: 7)\n",
    "### 9. **angle** = Roll (idx: 8)\n",
    "### 10. **manipulability** (idx: 9)\n",
    "### 11. Joint 1\n",
    "### 12. Joint 2\n",
    "### 13. Joint 3\n",
    "### 14. Joint 4 \n",
    "### 15. Joint 5\n",
    "### 16. Joint 6\n",
    "\n",
    "> In this file, Cr is degrees.\n",
    "\n",
    "1. Offline\n",
    "    1. Configuration\n",
    "        1. `M`: X-Y-Cr manipulability map\n",
    "        2. `Rsize`: the size of the robot-base\n",
    "    1. Preparation\n",
    "        1. Convert the `M` to a feasibility map `F` (helical shape).\n",
    "        2. ~~[SKIP] Convert a cartesian grid `F` to a cylindrical grid `F` by linear interpolation.~~\n",
    "2. Online\n",
    "    1. Input\n",
    "        1. `Pt`: Position of the target object (relative to the robot’s current pose)\n",
    "        2. `Obs`: Area list of ground obstacles\n",
    "        3. `Cr`: Constraints on the approach angle (relative to the robot heading)\n",
    "        4. `Ct`: Constraints on the approach angle (relative to the target heading)\n",
    "    2. Process\n",
    "        1. Cut the range of `Cr` from `F` and set it to `Fcut`.\n",
    "        2. ~~[SKIP] Scan the maximum points for the radius and angle by each circle in `Fcut`.~~\n",
    "        3. Wipe the `Fcut` in the range of `Ct`.\n",
    "        4. And extract only the maximum as a `Fmax`.\n",
    "        5. Remove all obstacle areas from `Fmax` with the offset of `Rsize`.\n",
    "    3. Output\n",
    "        1. Candidate poses (sorted in descending order of manipulability)\n"
   ]
  },
  {
   "cell_type": "code",
   "execution_count": 42,
   "metadata": {},
   "outputs": [],
   "source": [
    "# %matplotlib inline\n",
    "%matplotlib qt\n",
    "\n",
    "import numpy as np\n",
    "import matplotlib.pyplot as plt\n",
    "from mpl_toolkits.mplot3d import Axes3D"
   ]
  },
  {
   "cell_type": "code",
   "execution_count": 8,
   "metadata": {},
   "outputs": [
    {
     "name": "stdout",
     "output_type": "stream",
     "text": [
      "(11505, 16)\n",
      "(10710, 16)\n"
     ]
    }
   ],
   "source": [
    "AbbMData = np.load('abbrobot_manip_2021-04-15_22-56-17allz.npy')\n",
    "print(AbbMData.shape)\n",
    "\n",
    "IndyMData = np.load('indyrobot_manip_2021-04-17_22-52-34allz.npy')\n",
    "print(IndyMData.shape)"
   ]
  },
  {
   "cell_type": "code",
   "execution_count": 46,
   "metadata": {},
   "outputs": [],
   "source": [
    "def scatter_2d(ax, theta, xs, ys, manip, col, dot_size=4, arrow_size=1):\n",
    "    colors = np.array([(col[0], col[1], col[2], m) for m in manip])\n",
    "    ax.scatter(xs, ys, c=colors, s=dot_size)\n",
    "    ax.set_xlabel('x(cm)', fontsize=15)\n",
    "    ax.set_ylabel('y(cm)', fontsize=15)\n",
    "    ax.grid(True)\n",
    "    # robot and object\n",
    "    arrow_x = np.array([0.7, 0.6, 0.6, 0.7, 0.7]) * arrow_size\n",
    "    arrow_y = np.array([0.05, 0.05, -0.05, -0.05, 0.05]) * arrow_size\n",
    "    ax.plot(arrow_x, arrow_y,'g')\n",
    "    \n",
    "    arrow_x = np.array([-0.7, -0.6, -0.6, -0.7, -0.7]) * arrow_size\n",
    "    arrow_y = np.array([0.05, 0.05, -0.05, -0.05, 0.05]) * arrow_size\n",
    "    ax.plot(arrow_x, arrow_y,'g')\n",
    "\n",
    "def manipulability(ax, man, dot_size=4, arrow_size=1):\n",
    "#     ax.plot(man[0],man[1] ,'.r')\n",
    "#     ax.plot(man[16],man[17] ,'.b')\n",
    "    ax.plot(man[0],man[1] ,'.g',markersize=15)\n",
    "    \n",
    "    ax.set_xlabel('x(cm)', fontsize=15)\n",
    "    ax.set_ylabel('y(cm)', fontsize=15)\n",
    "    ax.grid(True)\n",
    "    # robot and object\n",
    "    arrow_x = np.array([0.7, 0.6, 0.6, 0.7, 0.7]) * arrow_size\n",
    "    arrow_y = np.array([0.05, 0.05, -0.05, -0.05, 0.05]) * arrow_size\n",
    "    ax.plot(arrow_x, arrow_y,'g')\n",
    "    \n",
    "    arrow_x = np.array([-0.7, -0.6, -0.6, -0.7, -0.7]) * arrow_size\n",
    "    arrow_y = np.array([0.05, 0.05, -0.05, -0.05, 0.05]) * arrow_size\n",
    "    ax.plot(arrow_x, arrow_y,'g')\n",
    "    \n",
    "def scatter_3d(ax, theta, xs, ys, manip):\n",
    "    colors = np.array([(1.0-m, m, 0.0, m) for m in manip])\n",
    "    ax.scatter(xs, ys, zs=theta, c=colors)\n",
    "    ax.set_xlabel('x(cm)', fontsize=15)\n",
    "    ax.set_ylabel('y(cm)', fontsize=15)\n",
    "    ax.set_zlabel('$\\Theta$(deg)', fontsize=15)\n",
    "    ax.set_title('Manipulability Map')\n",
    "    \n",
    "def scatter_3dm(ax, theta, xs, ys, manip, col):\n",
    "    colors = np.array([(col[0], col[1], col[2], m) for m in manip])\n",
    "    ax.scatter(xs, ys, zs=theta, c=colors)\n",
    "    ax.plot([xs[1]],[ys[1]],[theta[1]],'.g',markersize=30)\n",
    "    ax.set_xlabel('x(mm)', fontsize=15)\n",
    "    ax.set_ylabel('y(mm)', fontsize=15)\n",
    "    ax.set_zlabel('z(mm)', fontsize=15)\n",
    "    ax.set_title('Manipulability Map')\n"
   ]
  },
  {
   "cell_type": "code",
   "execution_count": 47,
   "metadata": {},
   "outputs": [],
   "source": [
    "Fig3D = plt.figure()\n",
    "ax = Fig3D.add_subplot(111, projection='3d')\n",
    "\n",
    "scatter_3d(ax, AbbMData[:, 2], AbbMData[:, 0], AbbMData[:, 1], AbbMData[:, 9]*8)\n",
    "Fig3D.tight_layout()\n",
    "plt.show()"
   ]
  },
  {
   "cell_type": "code",
   "execution_count": 48,
   "metadata": {},
   "outputs": [],
   "source": [
    "Fig3D= plt.figure()\n",
    "ax2 = Fig3D.add_subplot(111, projection='3d')\n",
    "scatter_3d(ax2, IndyMData[:, 2], IndyMData[:, 0], IndyMData[:, 1], IndyMData[:, 9]*7)\n",
    "Fig3D.tight_layout()\n",
    "plt.show()"
   ]
  },
  {
   "cell_type": "code",
   "execution_count": 12,
   "metadata": {},
   "outputs": [],
   "source": [
    "# fig, (ax1, ax2) = plt.subplots(nrows=1, ncols=2)\n",
    "# scatter_2d(ax1, 0, AbbMData['TCPx'], AbbMData['TCPy'], AbbMData['M'])\n",
    "# scatter_2d(ax2, 0, IndyMData['TCPx'], IndyMData['TCPy'], IndyMData['M'])\n",
    "\n",
    "# xyminmax = [-0.8, 0.8, -0.3, 0.3]\n",
    "# ax1.axis(xyminmax)\n",
    "# ax2.axis(xyminmax)\n",
    "# fig.tight_layout()\n",
    "# plt.show()"
   ]
  },
  {
   "cell_type": "code",
   "execution_count": 13,
   "metadata": {},
   "outputs": [
    {
     "data": {
      "image/png": "[encoded data removed]",
      "text/plain": [
       "<Figure size 432x288 with 1 Axes>"
      ]
     },
     "metadata": {
      "needs_background": "light"
     },
     "output_type": "display_data"
    }
   ],
   "source": [
    "fig, (ax1) = plt.subplots(nrows=1, ncols=1)\n",
    "# scatter_2d(ax1, 0, AbbMData['eefx'], AbbMData['eefy'], AbbMData['M'])\n",
    "scatter_2d(ax1, 0, AbbMData[:, 0], AbbMData[:, 1], AbbMData[:, 9], col=[1,0,0])\n",
    "\n",
    "xyminmax = [-0.8, 0.8, -0.4, 0.4]\n",
    "ax1.axis(xyminmax)\n",
    "ax2.axis(xyminmax)\n",
    "fig.tight_layout()\n",
    "plt.show()"
   ]
  },
  {
   "cell_type": "code",
   "execution_count": 14,
   "metadata": {},
   "outputs": [
    {
     "data": {
      "image/png": "[encoded data removed]",
      "text/plain": [
       "<Figure size 432x288 with 1 Axes>"
      ]
     },
     "metadata": {
      "needs_background": "light"
     },
     "output_type": "display_data"
    }
   ],
   "source": [
    "fig, (ax1) = plt.subplots(nrows=1, ncols=1)\n",
    "# scatter_2d(ax1, 0, IndyMData['eefx'], IndyMData['eefy'], IndyMData['M'])\n",
    "scatter_2d(ax1, 0, IndyMData[:, 0], IndyMData[:, 1], IndyMData[:, 9], col=[0,0,1])\n",
    "\n",
    "xyminmax = [-0.8, 0.8, -0.4, 0.4]\n",
    "ax1.axis(xyminmax)\n",
    "fig.tight_layout()\n",
    "plt.show()"
   ]
  },
  {
   "cell_type": "markdown",
   "metadata": {},
   "source": []
  },
  {
   "cell_type": "code",
   "execution_count": null,
   "metadata": {},
   "outputs": [],
   "source": []
  },
  {
   "cell_type": "markdown",
   "metadata": {},
   "source": [
    "# map only with 0 direction"
   ]
  },
  {
   "cell_type": "code",
   "execution_count": 21,
   "metadata": {},
   "outputs": [
    {
     "name": "stdout",
     "output_type": "stream",
     "text": [
      "(11505, 16)\n",
      "(10710, 16)\n"
     ]
    }
   ],
   "source": [
    "# Abb = AbbMData[(AbbMData[:, 6] == -90)|(AbbMData[:, 6] == 90) |(AbbMData[:, 6] == 45)|(AbbMData[:, 6] == -45) |(AbbMData[:, 6] == 0), :]\n",
    "Abb = AbbMData\n",
    "print(Abb.shape)\n",
    "Indy = IndyMData\n",
    "print(Indy.shape)"
   ]
  },
  {
   "cell_type": "markdown",
   "metadata": {},
   "source": [
    "# Reorganized with manipulability High"
   ]
  },
  {
   "cell_type": "code",
   "execution_count": 22,
   "metadata": {},
   "outputs": [
    {
     "name": "stdout",
     "output_type": "stream",
     "text": [
      "(11505, 16)\n",
      "(10710, 16)\n"
     ]
    }
   ],
   "source": [
    "# Sort 2D numpy array by manipulability Column\n",
    "ABBmdes = Abb[Abb[:,9].argsort()]\n",
    "ABBzero = np.flip(ABBmdes, 0)\n",
    "print(ABBzero.shape)\n",
    "\n",
    "Indymdes = Indy[Indy[:,9].argsort()]\n",
    "Indyzero = np.flip(Indymdes, 0)\n",
    "print(Indyzero.shape)\n",
    "# print(ABBzero[:,0])\n",
    "# print(Indyzero[:,0])"
   ]
  },
  {
   "cell_type": "code",
   "execution_count": 23,
   "metadata": {},
   "outputs": [
    {
     "name": "stdout",
     "output_type": "stream",
     "text": [
      "(14615, 16)\n"
     ]
    }
   ],
   "source": [
    "ABBm=[]\n",
    "for p in ABBzero:\n",
    "    for q in Indyzero:\n",
    "        if ((p[0]==q[0]) & (p[1]==q[1]) & (p[2]==q[2]) & (p[6]==q[6]) & (p[7]==q[7]) & (p[8]==q[8])):\n",
    "            ABBm.append(p)\n",
    "npraw = np.array(ABBm)\n",
    "\n",
    "print(npraw.shape)"
   ]
  },
  {
   "cell_type": "code",
   "execution_count": 24,
   "metadata": {},
   "outputs": [
    {
     "name": "stdout",
     "output_type": "stream",
     "text": [
      "(7567, 16)\n"
     ]
    }
   ],
   "source": [
    "resultado = np.unique(npraw, axis=0)\n",
    "print(resultado.shape)"
   ]
  },
  {
   "cell_type": "code",
   "execution_count": 26,
   "metadata": {},
   "outputs": [
    {
     "name": "stdout",
     "output_type": "stream",
     "text": [
      "(4013, 16)\n"
     ]
    }
   ],
   "source": [
    "_, index = np.unique(resultado[:, [0,1,2,6,7,8,9]], axis=0, return_index=True)\n",
    "resultado=resultado[index]\n",
    "resultado = resultado[resultado[:,9].argsort()]\n",
    "resultado = np.flip(resultado, 0)\n",
    "print(resultado.shape)\n",
    "# print(resultado[:,0])"
   ]
  },
  {
   "cell_type": "code",
   "execution_count": 27,
   "metadata": {},
   "outputs": [
    {
     "data": {
      "image/png": "[encoded data removed]",
      "text/plain": [
       "<Figure size 432x288 with 1 Axes>"
      ]
     },
     "metadata": {
      "needs_background": "light"
     },
     "output_type": "display_data"
    }
   ],
   "source": [
    "fig, (ax1) = plt.subplots(nrows=1, ncols=1)\n",
    "scatter_2d(ax1, 0, resultado[:, 0], resultado[:, 1], resultado[:, 9]*8, col=[1,0,0])\n",
    "\n",
    "xyminmax = [-0.8, 0.8, -0.4, 0.4]\n",
    "ax1.axis(xyminmax)\n",
    "ax2.axis(xyminmax)\n",
    "fig.tight_layout()\n",
    "plt.show()"
   ]
  },
  {
   "cell_type": "code",
   "execution_count": 28,
   "metadata": {},
   "outputs": [
    {
     "name": "stdout",
     "output_type": "stream",
     "text": [
      "(14615, 16)\n"
     ]
    }
   ],
   "source": [
    "Indym=[]\n",
    "for p in Indyzero:\n",
    "    for q in ABBzero:\n",
    "        if ((p[0]==q[0]) & (p[1]==q[1]) & (p[2]==q[2]) & (p[6]==q[6]) & (p[7]==q[7]) & (p[8]==q[8])):\n",
    "            Indym.append(p)\n",
    "#             \n",
    "npraw1 = np.array(Indym)\n",
    "print(npraw1.shape)\n",
    "# print(npraw1[:,9])"
   ]
  },
  {
   "cell_type": "code",
   "execution_count": 29,
   "metadata": {},
   "outputs": [],
   "source": [
    "resultado1 = np.unique(npraw1, axis=0)"
   ]
  },
  {
   "cell_type": "code",
   "execution_count": 30,
   "metadata": {},
   "outputs": [
    {
     "name": "stdout",
     "output_type": "stream",
     "text": [
      "(3926, 16)\n"
     ]
    }
   ],
   "source": [
    "_, index = np.unique(resultado1[:, [0,1,2,6,7,8]], axis=0, return_index=True)\n",
    "resultado1=resultado1[index]\n",
    "resultado1 = resultado1[resultado1[:,9].argsort()]\n",
    "resultado1 = np.flip(resultado1, 0)\n",
    "print(resultado1.shape)\n",
    "# print(resultado1[:,9])"
   ]
  },
  {
   "cell_type": "code",
   "execution_count": 31,
   "metadata": {},
   "outputs": [
    {
     "data": {
      "image/png": "[encoded data removed]",
      "text/plain": [
       "<Figure size 432x288 with 1 Axes>"
      ]
     },
     "metadata": {
      "needs_background": "light"
     },
     "output_type": "display_data"
    }
   ],
   "source": [
    "fig, (ax1) = plt.subplots(nrows=1, ncols=1)\n",
    "# scatter_2d(ax1, 0, IndyMData['eefx'], IndyMData['eefy'], IndyMData['M'])\n",
    "scatter_2d(ax1, 0, resultado1[:, 0], resultado1[:, 1], resultado1[:, 9]*7, col=[0,0,1])\n",
    "\n",
    "xyminmax = [-0.8, 0.8, -0.4, 0.4]\n",
    "ax1.axis(xyminmax)\n",
    "ax2.axis(xyminmax)\n",
    "fig.tight_layout()\n",
    "plt.show()\n"
   ]
  },
  {
   "cell_type": "code",
   "execution_count": 32,
   "metadata": {},
   "outputs": [
    {
     "name": "stdout",
     "output_type": "stream",
     "text": [
      "(4013, 33)\n"
     ]
    }
   ],
   "source": [
    "ABBmanipulability=[]\n",
    "for p in range(len(resultado[:, 0])):\n",
    "    for q in range(len(resultado1[:, 0])):\n",
    "        if ((resultado[p,0]==resultado1[q,0]) & (resultado[p,1]==resultado1[q,1]) & (resultado[p,2]==resultado1[q,2]) & (resultado[p,6]==resultado1[q,6]) & (resultado[p,7]==resultado1[q,7]) & (resultado[p,8]==resultado1[q,8])):\n",
    "            a = np.r_[resultado[p,:], resultado1[q,:],resultado[p,9]+resultado1[q,9]]\n",
    "            ABBmanipulability.append(a)\n",
    "            \n",
    "npraw = np.array(ABBmanipulability)\n",
    "\n",
    "print(npraw.shape)"
   ]
  },
  {
   "cell_type": "code",
   "execution_count": 34,
   "metadata": {},
   "outputs": [],
   "source": [
    "dualmani = npraw[npraw[:,32].argsort()]\n",
    "dualmani = np.flip(dualmani, 0)\n",
    "\n",
    "# dualmani[:,32]"
   ]
  },
  {
   "cell_type": "code",
   "execution_count": 49,
   "metadata": {},
   "outputs": [],
   "source": [
    "Fig3D = plt.figure()\n",
    "ax = Fig3D.add_subplot(111, projection='3d')\n",
    "\n",
    "scatter_3dm(ax, dualmani[:, 2], dualmani[:, 0], dualmani[:, 1], dualmani[:, 9]*7,col=[1,0,0])\n",
    "Fig3D.tight_layout()\n",
    "plt.show()"
   ]
  },
  {
   "cell_type": "code",
   "execution_count": 50,
   "metadata": {},
   "outputs": [],
   "source": [
    "Fig3D = plt.figure()\n",
    "ax = Fig3D.add_subplot(111, projection='3d')\n",
    "\n",
    "scatter_3dm(ax, dualmani[:, 18], dualmani[:, 16], dualmani[:, 17], dualmani[:, 25]*7, col=[0,0,1] )\n",
    "Fig3D.tight_layout()\n",
    "plt.show()"
   ]
  },
  {
   "cell_type": "code",
   "execution_count": 37,
   "metadata": {
    "scrolled": true
   },
   "outputs": [
    {
     "data": {
      "image/png": "[encoded data removed]",
      "text/plain": [
       "<Figure size 432x288 with 1 Axes>"
      ]
     },
     "metadata": {
      "needs_background": "light"
     },
     "output_type": "display_data"
    }
   ],
   "source": [
    "fig, (ax1) = plt.subplots(nrows=1, ncols=1)\n",
    "scatter_2d(ax1, 0, dualmani[:, 0], dualmani[:, 1], dualmani[:, 9]*8, col=[1,0,0])\n",
    "manipulability(ax1, dualmani[0])\n",
    "xyminmax = [-0.8, 0.8, -0.4, 0.4]\n",
    "ax1.axis(xyminmax)\n",
    "ax2.axis(xyminmax)\n",
    "fig.tight_layout()\n",
    "plt.show()"
   ]
  },
  {
   "cell_type": "code",
   "execution_count": 38,
   "metadata": {
    "scrolled": true
   },
   "outputs": [
    {
     "data": {
      "image/png": "[encoded data removed]",
      "text/plain": [
       "<Figure size 432x288 with 1 Axes>"
      ]
     },
     "metadata": {
      "needs_background": "light"
     },
     "output_type": "display_data"
    }
   ],
   "source": [
    "fig, (ax1) = plt.subplots(nrows=1, ncols=1)\n",
    "scatter_2d(ax1, 0, dualmani[:, 16], dualmani[:, 17], dualmani[:, 25]*7, col=[0,0,1] )\n",
    "manipulability(ax1, dualmani[0])\n",
    "xyminmax = [-0.8, 0.8, -0.4, 0.4]\n",
    "ax1.axis(xyminmax)\n",
    "ax2.axis(xyminmax)\n",
    "fig.tight_layout()\n",
    "plt.show()"
   ]
  },
  {
   "cell_type": "code",
   "execution_count": 39,
   "metadata": {},
   "outputs": [
    {
     "data": {
      "text/plain": [
       "array([4.67854646e-01, 1.58698817e-01, 6.21157867e-01, 8.77708766e-04,\n",
       "       7.90790089e-01, 9.91396194e-01])"
      ]
     },
     "execution_count": 39,
     "metadata": {},
     "output_type": "execute_result"
    }
   ],
   "source": [
    "#abb\n",
    "dualmani[0,10:16]"
   ]
  },
  {
   "cell_type": "code",
   "execution_count": 40,
   "metadata": {},
   "outputs": [
    {
     "data": {
      "text/plain": [
       "array([-0.09267645, -1.14888819, -1.98294319, -2.70997071, -1.56212006,\n",
       "        1.56572452])"
      ]
     },
     "execution_count": 40,
     "metadata": {},
     "output_type": "execute_result"
    }
   ],
   "source": [
    "# indy\n",
    "dualmani[0,26:32]"
   ]
  },
  {
   "cell_type": "code",
   "execution_count": 41,
   "metadata": {
    "scrolled": false
   },
   "outputs": [
    {
     "data": {
      "text/plain": [
       "array([ 2.50000000e-01, -1.00000000e-01,  1.50000000e-01,  3.66423048e-01,\n",
       "       -1.38349365e-01,  3.22000000e-01, -3.00000000e+01,  9.00000000e+01,\n",
       "       -9.00000000e+01,  9.80000000e-02,  4.67854646e-01,  1.58698817e-01,\n",
       "        6.21157867e-01,  8.77708766e-04,  7.90790089e-01,  9.91396194e-01,\n",
       "        2.50000000e-01, -1.00000000e-01,  1.50000000e-01,  5.08141571e-02,\n",
       "        1.50000000e-02,  1.50000000e-01, -3.00000000e+01,  9.00000000e+01,\n",
       "       -9.00000000e+01,  1.16000000e-01, -9.26764453e-02, -1.14888819e+00,\n",
       "       -1.98294319e+00, -2.70997071e+00, -1.56212006e+00,  1.56572452e+00,\n",
       "        2.14000000e-01])"
      ]
     },
     "execution_count": 41,
     "metadata": {},
     "output_type": "execute_result"
    }
   ],
   "source": [
    "dualmani[0]"
   ]
  },
  {
   "cell_type": "code",
   "execution_count": null,
   "metadata": {},
   "outputs": [],
   "source": []
  },
  {
   "cell_type": "code",
   "execution_count": null,
   "metadata": {},
   "outputs": [],
   "source": []
  }
 ],
 "metadata": {
  "kernelspec": {
   "display_name": "Python 3",
   "language": "python",
   "name": "python3"
  },
  "language_info": {
   "codemirror_mode": {
    "name": "ipython",
    "version": 3
   },
   "file_extension": ".py",
   "mimetype": "text/x-python",
   "name": "python",
   "nbconvert_exporter": "python",
   "pygments_lexer": "ipython3",
   "version": "3.9.2"
  }
 },
 "nbformat": 4,
 "nbformat_minor": 2
}
