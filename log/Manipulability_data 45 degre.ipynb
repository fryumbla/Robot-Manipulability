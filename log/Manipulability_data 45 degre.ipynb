{
 "cells": [
  {
   "cell_type": "markdown",
   "metadata": {},
   "source": [
    "# Find a Reachability map\n",
    "\n",
    "## DATA \n",
    "\n",
    "### 1-3. **TCP(x,y,z)**\n",
    "### 4-6. **eef(x,y,z)** \n",
    "### 7. **angle** = Cr (idx: 6)\n",
    "### 8. **angle** = Pitch (idx: 7)\n",
    "### 9. **angle** = Roll (idx: 8)\n",
    "### 10. **manipulability** (idx: 9)\n",
    "### 11. Joint 1\n",
    "### 12. Joint 2\n",
    "### 13. Joint 3\n",
    "### 14. Joint 4 \n",
    "### 15. Joint 5\n",
    "### 16. Joint 6\n",
    "\n",
    "> In this file, Cr is degrees.\n",
    "\n",
    "1. Offline\n",
    "    1. Configuration\n",
    "        1. `M`: X-Y-Cr manipulability map\n",
    "        2. `Rsize`: the size of the robot-base\n",
    "    1. Preparation\n",
    "        1. Convert the `M` to a feasibility map `F` (helical shape).\n",
    "        2. ~~[SKIP] Convert a cartesian grid `F` to a cylindrical grid `F` by linear interpolation.~~\n",
    "2. Online\n",
    "    1. Input\n",
    "        1. `Pt`: Position of the target object (relative to the robot’s current pose)\n",
    "        2. `Obs`: Area list of ground obstacles\n",
    "        3. `Cr`: Constraints on the approach angle (relative to the robot heading)\n",
    "        4. `Ct`: Constraints on the approach angle (relative to the target heading)\n",
    "    2. Process\n",
    "        1. Cut the range of `Cr` from `F` and set it to `Fcut`.\n",
    "        2. ~~[SKIP] Scan the maximum points for the radius and angle by each circle in `Fcut`.~~\n",
    "        3. Wipe the `Fcut` in the range of `Ct`.\n",
    "        4. And extract only the maximum as a `Fmax`.\n",
    "        5. Remove all obstacle areas from `Fmax` with the offset of `Rsize`.\n",
    "    3. Output\n",
    "        1. Candidate poses (sorted in descending order of manipulability)\n"
   ]
  },
  {
   "cell_type": "code",
   "execution_count": 117,
   "metadata": {},
   "outputs": [],
   "source": [
    "%matplotlib inline\n",
    "# %matplotlib qt\n",
    "\n",
    "import numpy as np\n",
    "import matplotlib.pyplot as plt\n",
    "from mpl_toolkits.mplot3d import Axes3D"
   ]
  },
  {
   "cell_type": "code",
   "execution_count": 118,
   "metadata": {},
   "outputs": [
    {
     "name": "stdout",
     "output_type": "stream",
     "text": [
      "(11505, 16)\n",
      "(10710, 16)\n"
     ]
    }
   ],
   "source": [
    "AbbMData = np.load('abbrobot_manip_2021-04-15_22-56-17allz.npy')\n",
    "print(AbbMData.shape)\n",
    "\n",
    "IndyMData = np.load('indyrobot_manip_2021-04-17_22-52-34allz.npy')\n",
    "print(IndyMData.shape)"
   ]
  },
  {
   "cell_type": "code",
   "execution_count": 119,
   "metadata": {},
   "outputs": [],
   "source": [
    "def scatter_2d(ax, theta, xs, ys, manip, col, dot_size=4, arrow_size=1):\n",
    "    colors = np.array([(col[0], col[1], col[2], m) for m in manip])\n",
    "    ax.scatter(xs, ys, c=colors, s=dot_size)\n",
    "    ax.set_xlabel('x(cm)', fontsize=15)\n",
    "    ax.set_ylabel('y(cm)', fontsize=15)\n",
    "    ax.grid(True)\n",
    "    # robot and object\n",
    "    arrow_x = np.array([0.7, 0.6, 0.6, 0.7, 0.7]) * arrow_size\n",
    "    arrow_y = np.array([0.05, 0.05, -0.05, -0.05, 0.05]) * arrow_size\n",
    "    ax.plot(arrow_x, arrow_y,'g')\n",
    "    \n",
    "    arrow_x = np.array([-0.7, -0.6, -0.6, -0.7, -0.7]) * arrow_size\n",
    "    arrow_y = np.array([0.05, 0.05, -0.05, -0.05, 0.05]) * arrow_size\n",
    "    ax.plot(arrow_x, arrow_y,'g')\n",
    "\n",
    "def manipulability(ax, man, dot_size=4, arrow_size=1):\n",
    "#     ax.plot(man[0],man[1] ,'.r')\n",
    "#     ax.plot(man[16],man[17] ,'.b')\n",
    "    ax.plot(man[0],man[1] ,'.g',markersize=10)\n",
    "    \n",
    "    ax.set_xlabel('x(cm)', fontsize=15)\n",
    "    ax.set_ylabel('y(cm)', fontsize=15)\n",
    "    ax.grid(True)\n",
    "    # robot and object\n",
    "    arrow_x = np.array([0.7, 0.6, 0.6, 0.7, 0.7]) * arrow_size\n",
    "    arrow_y = np.array([0.05, 0.05, -0.05, -0.05, 0.05]) * arrow_size\n",
    "    ax.plot(arrow_x, arrow_y,'g')\n",
    "    \n",
    "    arrow_x = np.array([-0.7, -0.6, -0.6, -0.7, -0.7]) * arrow_size\n",
    "    arrow_y = np.array([0.05, 0.05, -0.05, -0.05, 0.05]) * arrow_size\n",
    "    ax.plot(arrow_x, arrow_y,'g')\n",
    "    \n",
    "def scatter_3d(ax, theta, xs, ys, manip):\n",
    "    colors = np.array([(1.0-m, m, 0.0, m) for m in manip])\n",
    "    ax.scatter(xs, ys, zs=theta, c=colors)\n",
    "    ax.set_xlabel('x(cm)', fontsize=15)\n",
    "    ax.set_ylabel('y(cm)', fontsize=15)\n",
    "    ax.set_zlabel('$\\Theta$(deg)', fontsize=15)\n",
    "    ax.set_title('Manipulability Map')\n",
    "\n"
   ]
  },
  {
   "cell_type": "code",
   "execution_count": null,
   "metadata": {},
   "outputs": [],
   "source": []
  },
  {
   "cell_type": "markdown",
   "metadata": {},
   "source": [
    "# map only with 45 degree"
   ]
  },
  {
   "cell_type": "code",
   "execution_count": 172,
   "metadata": {},
   "outputs": [
    {
     "name": "stdout",
     "output_type": "stream",
     "text": [
      "(775, 16)\n",
      "(786, 16)\n"
     ]
    }
   ],
   "source": [
    "# Abb = AbbMData[(AbbMData[:, 6] == -90)|(AbbMData[:, 6] == 90) |(AbbMData[:, 6] == 45)|(AbbMData[:, 6] == -45) |(AbbMData[:, 6] == 0), :]\n",
    "Abb = AbbMData[(AbbMData[:, 6] == 45), :]\n",
    "print(Abb.shape)\n",
    "Indy = IndyMData[(IndyMData[:, 6] == 45), :]\n",
    "print(Indy.shape)"
   ]
  },
  {
   "cell_type": "code",
   "execution_count": 173,
   "metadata": {},
   "outputs": [
    {
     "data": {
      "image/png": "[encoded data removed]",
      "text/plain": [
       "<Figure size 432x288 with 2 Axes>"
      ]
     },
     "metadata": {
      "needs_background": "light"
     },
     "output_type": "display_data"
    }
   ],
   "source": [
    "fig, (ax1,ax2) = plt.subplots(nrows=1, ncols=2)\n",
    "# scatter_2d(ax1, 0, IndyMData['eefx'], IndyMData['eefy'], IndyMData['M'])\n",
    "scatter_2d(ax1, 0, Abb[:, 0], Abb[:, 1], Abb[:, 9]*8, col=[1,0,0])\n",
    "scatter_2d(ax2, 0, Indy[:, 0], Indy[:, 1], Indy[:, 9]*7, col=[0,0,1])\n",
    "\n",
    "xyminmax = [-0.8, 0.8, -0.4, 0.4]\n",
    "ax1.axis(xyminmax)\n",
    "ax2.axis(xyminmax)\n",
    "fig.tight_layout()\n",
    "plt.show()"
   ]
  },
  {
   "cell_type": "code",
   "execution_count": 174,
   "metadata": {},
   "outputs": [],
   "source": [
    "# fig, (ax1) = plt.subplots(nrows=1, ncols=1)\n",
    "# # scatter_2d(ax1, 0, IndyMData['eefx'], IndyMData['eefy'], IndyMData['M'])\n",
    "# scatter_2d(ax1, 0, Indy[:, 0], Indy[:, 1], Indy[:, 9]*7, col=[0,0,1])\n",
    "\n",
    "# xyminmax = [-0.8, 0.8, -0.4, 0.4]\n",
    "# ax1.axis(xyminmax)\n",
    "# fig.tight_layout()\n",
    "# plt.show()"
   ]
  },
  {
   "cell_type": "markdown",
   "metadata": {},
   "source": [
    "# Reorganized with manipulability High"
   ]
  },
  {
   "cell_type": "code",
   "execution_count": 175,
   "metadata": {},
   "outputs": [
    {
     "name": "stdout",
     "output_type": "stream",
     "text": [
      "(775, 16)\n",
      "(786, 16)\n"
     ]
    }
   ],
   "source": [
    "# Sort 2D numpy array by manipulability Column\n",
    "ABBmdes = Abb[Abb[:,9].argsort()]\n",
    "ABBzero = np.flip(ABBmdes, 0)\n",
    "print(ABBzero.shape)\n",
    "\n",
    "Indymdes = Indy[Indy[:,9].argsort()]\n",
    "Indyzero = np.flip(Indymdes, 0)\n",
    "print(Indyzero.shape)"
   ]
  },
  {
   "cell_type": "code",
   "execution_count": 176,
   "metadata": {},
   "outputs": [
    {
     "name": "stdout",
     "output_type": "stream",
     "text": [
      "(940, 16)\n"
     ]
    }
   ],
   "source": [
    "ABBm=[]\n",
    "for p in ABBzero:\n",
    "    for q in Indyzero:\n",
    "        if ((p[0]==q[0]) & (p[1]==q[1]) & (p[2]==q[2])):\n",
    "            ABBm.append(p)\n",
    "npraw = np.array(ABBm)\n",
    "\n",
    "print(npraw.shape)"
   ]
  },
  {
   "cell_type": "code",
   "execution_count": 177,
   "metadata": {},
   "outputs": [
    {
     "name": "stdout",
     "output_type": "stream",
     "text": [
      "(463, 16)\n"
     ]
    }
   ],
   "source": [
    "resultado = np.unique(npraw, axis=0)\n",
    "print(resultado.shape)"
   ]
  },
  {
   "cell_type": "code",
   "execution_count": 178,
   "metadata": {},
   "outputs": [
    {
     "name": "stdout",
     "output_type": "stream",
     "text": [
      "(220, 16)\n"
     ]
    }
   ],
   "source": [
    "_, index = np.unique(resultado[:, [0,1,2,9]], axis=0, return_index=True)\n",
    "resultado=resultado[index]\n",
    "resultado = resultado[resultado[:,9].argsort()]\n",
    "resultado = np.flip(resultado, 0)\n",
    "print(resultado.shape)\n",
    "# print(resultado[:,0])"
   ]
  },
  {
   "cell_type": "code",
   "execution_count": 179,
   "metadata": {},
   "outputs": [
    {
     "data": {
      "image/png": "[encoded data removed]",
      "text/plain": [
       "<Figure size 432x288 with 1 Axes>"
      ]
     },
     "metadata": {
      "needs_background": "light"
     },
     "output_type": "display_data"
    }
   ],
   "source": [
    "fig, (ax1) = plt.subplots(nrows=1, ncols=1)\n",
    "scatter_2d(ax1, 0, resultado[:, 0], resultado[:, 1], resultado[:, 9]*8, col=[1,0,0])\n",
    "\n",
    "xyminmax = [-0.8, 0.8, -0.4, 0.4]\n",
    "ax1.axis(xyminmax)\n",
    "ax2.axis(xyminmax)\n",
    "fig.tight_layout()\n",
    "plt.show()"
   ]
  },
  {
   "cell_type": "code",
   "execution_count": 180,
   "metadata": {},
   "outputs": [
    {
     "name": "stdout",
     "output_type": "stream",
     "text": [
      "(940, 16)\n"
     ]
    }
   ],
   "source": [
    "Indym=[]\n",
    "for p in range(len(Indyzero[:, 0])):\n",
    "    for q in range(len(ABBzero[:, 0])):\n",
    "#         print(Abb[p,0])\n",
    "        if ((Indyzero[p,0]==ABBzero[q,0]) & (Indyzero[p,1]==ABBzero[q,1]) & (Indyzero[p,2]==ABBzero[q,2])):\n",
    "            Indym.append(Indyzero[p,:])\n",
    "#             \n",
    "npraw1 = np.array(Indym)\n",
    "print(npraw1.shape)\n",
    "# print(npraw1[:,9])"
   ]
  },
  {
   "cell_type": "code",
   "execution_count": 181,
   "metadata": {},
   "outputs": [],
   "source": [
    "resultado1 = np.unique(npraw1, axis=0)"
   ]
  },
  {
   "cell_type": "code",
   "execution_count": 182,
   "metadata": {},
   "outputs": [
    {
     "name": "stdout",
     "output_type": "stream",
     "text": [
      "(245, 16)\n"
     ]
    }
   ],
   "source": [
    "_, index = np.unique(resultado1[:, [0,1,9]], axis=0, return_index=True)\n",
    "resultado1=resultado1[index]\n",
    "resultado1 = resultado1[resultado1[:,9].argsort()]\n",
    "resultado1 = np.flip(resultado1, 0)\n",
    "print(resultado1.shape)\n",
    "# print(resultado1[:,9])"
   ]
  },
  {
   "cell_type": "code",
   "execution_count": 183,
   "metadata": {},
   "outputs": [
    {
     "data": {
      "image/png": "[encoded data removed]",
      "text/plain": [
       "<Figure size 432x288 with 1 Axes>"
      ]
     },
     "metadata": {
      "needs_background": "light"
     },
     "output_type": "display_data"
    }
   ],
   "source": [
    "fig, (ax1) = plt.subplots(nrows=1, ncols=1)\n",
    "# scatter_2d(ax1, 0, IndyMData['eefx'], IndyMData['eefy'], IndyMData['M'])\n",
    "scatter_2d(ax1, 0, resultado1[:, 0], resultado1[:, 1], resultado1[:, 9]*7, col=[0,0,1])\n",
    "\n",
    "xyminmax = [-0.8, 0.8, -0.4, 0.4]\n",
    "ax1.axis(xyminmax)\n",
    "ax2.axis(xyminmax)\n",
    "fig.tight_layout()\n",
    "plt.show()\n"
   ]
  },
  {
   "cell_type": "code",
   "execution_count": 184,
   "metadata": {},
   "outputs": [
    {
     "name": "stdout",
     "output_type": "stream",
     "text": [
      "(253, 33)\n"
     ]
    }
   ],
   "source": [
    "ABBmanipulability=[]\n",
    "for p in range(len(resultado[:, 0])):\n",
    "    for q in range(len(resultado1[:, 0])):\n",
    "        if ((resultado[p,0]==resultado1[q,0]) & (resultado[p,1]==resultado1[q,1]) & (resultado[p,2]==resultado1[q,2])):\n",
    "            a = np.r_[resultado[p,:], resultado1[q,:],resultado[p,9]+resultado1[q,9]]\n",
    "            ABBmanipulability.append(a)\n",
    "            \n",
    "npraw = np.array(ABBmanipulability)\n",
    "\n",
    "print(npraw.shape)"
   ]
  },
  {
   "cell_type": "code",
   "execution_count": 185,
   "metadata": {},
   "outputs": [],
   "source": [
    "dualmani = npraw[npraw[:,32].argsort()]\n",
    "dualmani = np.flip(dualmani, 0)\n",
    "\n",
    "# colors = np.array([(1.0-m, m, 0.0, m) for m in manip])"
   ]
  },
  {
   "cell_type": "code",
   "execution_count": null,
   "metadata": {},
   "outputs": [],
   "source": []
  },
  {
   "cell_type": "code",
   "execution_count": 186,
   "metadata": {},
   "outputs": [
    {
     "data": {
      "image/png": "[encoded data removed]",
      "text/plain": [
       "<Figure size 432x288 with 1 Axes>"
      ]
     },
     "metadata": {
      "needs_background": "light"
     },
     "output_type": "display_data"
    }
   ],
   "source": [
    "fig, (ax1) = plt.subplots(nrows=1, ncols=1)\n",
    "scatter_2d(ax1, 0, dualmani[:, 0], dualmani[:, 1], dualmani[:, 9]*8, col=[1,0,0])\n",
    "manipulability(ax1, dualmani[10])\n",
    "xyminmax = [-0.8, 0.8, -0.4, 0.4]\n",
    "ax1.axis(xyminmax)\n",
    "ax2.axis(xyminmax)\n",
    "fig.tight_layout()\n",
    "plt.show()"
   ]
  },
  {
   "cell_type": "code",
   "execution_count": 187,
   "metadata": {
    "scrolled": false
   },
   "outputs": [
    {
     "data": {
      "image/png": "[encoded data removed]",
      "text/plain": [
       "<Figure size 432x288 with 1 Axes>"
      ]
     },
     "metadata": {
      "needs_background": "light"
     },
     "output_type": "display_data"
    }
   ],
   "source": [
    "fig, (ax1) = plt.subplots(nrows=1, ncols=1)\n",
    "scatter_2d(ax1, 0, dualmani[:, 16], dualmani[:, 17], dualmani[:, 25]*7, col=[0,0,1] )\n",
    "manipulability(ax1, dualmani[10])\n",
    "xyminmax = [-0.8, 0.8, -0.4, 0.4]\n",
    "ax1.axis(xyminmax)\n",
    "ax2.axis(xyminmax)\n",
    "fig.tight_layout()\n",
    "plt.show()"
   ]
  },
  {
   "cell_type": "code",
   "execution_count": 188,
   "metadata": {},
   "outputs": [
    {
     "data": {
      "text/plain": [
       "array([-4.46826491e-01,  8.36775282e-01, -3.58490688e-01, -4.29344900e-04,\n",
       "        1.09255857e+00, -1.49295508e+00])"
      ]
     },
     "execution_count": 188,
     "metadata": {},
     "output_type": "execute_result"
    }
   ],
   "source": [
    "#abb\n",
    "dualmani[10,10:16]"
   ]
  },
  {
   "cell_type": "code",
   "execution_count": 189,
   "metadata": {},
   "outputs": [
    {
     "data": {
      "text/plain": [
       "array([-0.47797381, -1.2127865 , -1.79595662, -1.52485076,  1.56445979,\n",
       "       -1.43894336])"
      ]
     },
     "execution_count": 189,
     "metadata": {},
     "output_type": "execute_result"
    }
   ],
   "source": [
    "#indy\n",
    "dualmani[10,26:32]"
   ]
  },
  {
   "cell_type": "code",
   "execution_count": 159,
   "metadata": {},
   "outputs": [
    {
     "name": "stdout",
     "output_type": "stream",
     "text": [
      "[ 3.00000000e-01  1.00000000e-01  2.00000000e-01  3.91423048e-01\n",
      "  1.81650635e-01  3.72000000e-01  3.00000000e+01  9.00000000e+01\n",
      " -9.00000000e+01  9.80000000e-02 -6.31110471e-01  7.42184111e-02\n",
      "  5.34587346e-01 -8.27603318e-04  9.61515912e-01 -1.15367393e+00\n",
      "  3.00000000e-01  1.00000000e-01  2.00000000e-01  1.00814157e-01\n",
      " -1.50000000e-02  2.00000000e-01  3.00000000e+01  9.00000000e+01\n",
      " -9.00000000e+01  1.12000000e-01  4.26904504e-02 -1.07845030e+00\n",
      " -1.87364849e+00 -4.88899669e-01  1.40217812e+00 -1.48146633e+00\n",
      "  2.10000000e-01]\n"
     ]
    }
   ],
   "source": [
    "#maximun\n",
    "print dualmani[0]"
   ]
  },
  {
   "cell_type": "code",
   "execution_count": null,
   "metadata": {},
   "outputs": [],
   "source": []
  },
  {
   "cell_type": "code",
   "execution_count": null,
   "metadata": {},
   "outputs": [],
   "source": []
  },
  {
   "cell_type": "code",
   "execution_count": null,
   "metadata": {},
   "outputs": [],
   "source": []
  },
  {
   "cell_type": "code",
   "execution_count": null,
   "metadata": {},
   "outputs": [],
   "source": []
  },
  {
   "cell_type": "code",
   "execution_count": null,
   "metadata": {},
   "outputs": [],
   "source": []
  },
  {
   "cell_type": "code",
   "execution_count": null,
   "metadata": {},
   "outputs": [],
   "source": []
  }
 ],
 "metadata": {
  "kernelspec": {
   "display_name": "Python 3",
   "language": "python",
   "name": "python3"
  },
  "language_info": {
   "codemirror_mode": {
    "name": "ipython",
    "version": 2
   },
   "file_extension": ".py",
   "mimetype": "text/x-python",
   "name": "python",
   "nbconvert_exporter": "python",
   "pygments_lexer": "ipython2",
   "version": "2.7.17"
  }
 },
 "nbformat": 4,
 "nbformat_minor": 2
}
