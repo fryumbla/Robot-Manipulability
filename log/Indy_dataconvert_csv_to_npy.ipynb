{
 "cells": [
  {
   "cell_type": "markdown",
   "metadata": {},
   "source": [
    "# CSV to NPY\n",
    "\n",
    "> In this file, Cr is radians.\n",
    "\n",
    "### CSV to NPY\n",
    "\n",
    "1-3. **TCP(x,y,z)**\n",
    "4-6. **eef(x,y,z)** \n",
    "7. **angle** = Cr (idx: 6)\n",
    "7. **angle** = Pitch (idx: 7)\n",
    "7. **angle** = Roll (idx: 8)\n",
    "10. **manipulability** (idx: 9)\n",
    "11. Joint 1\n",
    "12. Joint 2\n",
    "13. Joint 3\n",
    "14. Joint 4 \n",
    "15. Joint 5\n",
    "16. Joint 6\n",
    "\n"
   ]
  },
  {
   "cell_type": "code",
   "execution_count": 6,
   "metadata": {},
   "outputs": [
    {
     "name": "stdout",
     "output_type": "stream",
     "text": [
      "(10710, 16)\n"
     ]
    }
   ],
   "source": [
    "# %matplotlib qt\n",
    "import csv\n",
    "import numpy as np\n",
    "\n",
    "raw = []\n",
    "with open('indyrobot_manip_2021-04-17_22-52-34allz.csv', 'r') as csvfile:\n",
    "    reader = csv.reader(csvfile, delimiter=',')\n",
    "    for row in reader:\n",
    "        TCPx = round(float(row[0]),2)\n",
    "        TCPy = round(float(row[1]),2)\n",
    "        TCPz = round(float(row[2]),2)\n",
    "        eefx = float(row[3])\n",
    "        eefy = float(row[4])\n",
    "        eefz = float(row[5])\n",
    "        Cr = float(row[6])  # radian\n",
    "        Pitch = float(row[7])  # radian\n",
    "        Roll = float(row[8])  # radian\n",
    "        M = round(float(row[9]),3)\n",
    "        J1 = float(row[10])\n",
    "        J2 = float(row[11])\n",
    "        J3 = float(row[12])\n",
    "        J4 = float(row[13])\n",
    "        J5 = float(row[14])\n",
    "        J6 = float(row[15])\n",
    "        raw.append([TCPx, TCPy, TCPz, eefx, eefy, eefz, Cr, Pitch, Roll, M, J1, J2, J3, J4, J5, J6])\n",
    "npraw = np.array(raw)\n",
    "\n",
    "np.save('indyrobot_manip_2021-04-17_22-52-34allz', npraw)\n",
    "print(npraw.shape)"
   ]
  },
  {
   "cell_type": "markdown",
   "metadata": {},
   "source": [
    "### Load NPY"
   ]
  },
  {
   "cell_type": "code",
   "execution_count": 7,
   "metadata": {},
   "outputs": [
    {
     "name": "stdout",
     "output_type": "stream",
     "text": [
      "(10710, 16)\n"
     ]
    }
   ],
   "source": [
    "Indy = np.load('indyrobot_manip_2021-04-17_22-52-34allz.npy')\n",
    "print(Indy.shape)"
   ]
  },
  {
   "cell_type": "code",
   "execution_count": 8,
   "metadata": {},
   "outputs": [],
   "source": [
    "import matplotlib.pyplot as plt\n",
    "from mpl_toolkits.mplot3d import Axes3D\n",
    "\n",
    "def scatter_2d(ax, theta, xs, ys, manip, dot_size=1, arrow_size=2):\n",
    "    colors = np.array([(1.0-m, m, 0.0, m) for m in manip])\n",
    "    ax.scatter(xs, ys, c=colors, s=dot_size)\n",
    "    ax.set_xlabel('x(cm)', fontsize=15)\n",
    "    ax.set_ylabel('y(cm)', fontsize=15)\n",
    "    ax.set_title('Manipulability Layer: $C_{r}$=%.1fdeg'% theta)\n",
    "    ax.grid(True)\n",
    "    # robot and object\n",
    "    arrow_x = np.array([1.0, -0.5, -0.5, 1.0]) * arrow_size\n",
    "    arrow_y = np.array([0.0, 0.5, -0.5, 0.0]) * arrow_size\n",
    "    ax.plot(arrow_x, arrow_y)\n",
    "    \n",
    "def scatter_3d(ax, theta, xs, ys, manip):\n",
    "    colors = np.array([(1.0-m, m, 0.0, m) for m in manip])\n",
    "    ax.scatter(xs, ys, zs=theta, c=colors)\n",
    "    ax.set_xlabel('x(cm)', fontsize=15)\n",
    "    ax.set_ylabel('y(cm)', fontsize=15)\n",
    "    ax.set_zlabel('$\\Theta$(deg)', fontsize=15)\n",
    "    ax.set_title('Manipulability Map')\n"
   ]
  },
  {
   "cell_type": "code",
   "execution_count": 9,
   "metadata": {},
   "outputs": [],
   "source": [
    "Fig3D = plt.figure()\n",
    "ax = Fig3D.add_subplot(111, projection='3d')\n",
    "\n",
    "scatter_3d(ax, Indy[:, 6], Indy[:, 0], Indy[:, 1], Indy[:, 9]*7)\n",
    "Fig3D.tight_layout()\n",
    "plt.show()"
   ]
  },
  {
   "cell_type": "code",
   "execution_count": 5,
   "metadata": {},
   "outputs": [
    {
     "name": "stdout",
     "output_type": "stream",
     "text": [
      "[0.093 0.117 0.128 ... 0.052 0.041 0.052]\n"
     ]
    }
   ],
   "source": [
    "print(Indy[:, 9])"
   ]
  },
  {
   "cell_type": "code",
   "execution_count": null,
   "metadata": {},
   "outputs": [],
   "source": []
  },
  {
   "cell_type": "code",
   "execution_count": null,
   "metadata": {},
   "outputs": [],
   "source": []
  },
  {
   "cell_type": "code",
   "execution_count": null,
   "metadata": {},
   "outputs": [],
   "source": []
  }
 ],
 "metadata": {
  "kernelspec": {
   "display_name": "Python 3",
   "language": "python",
   "name": "python3"
  },
  "language_info": {
   "codemirror_mode": {
    "name": "ipython",
    "version": 3
   },
   "file_extension": ".py",
   "mimetype": "text/x-python",
   "name": "python",
   "nbconvert_exporter": "python",
   "pygments_lexer": "ipython3",
   "version": "3.9.2"
  }
 },
 "nbformat": 4,
 "nbformat_minor": 4
}
